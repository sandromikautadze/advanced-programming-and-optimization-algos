{
 "cells": [
  {
   "attachments": {},
   "cell_type": "markdown",
   "metadata": {},
   "source": [
    "# Programming Assigment 1\n",
    "\n",
    "You should submit your python code as a solution via vocareum platform, more detailed instructions will come later. Use the PuLP library https://pypi.org/project/PuLP/ to solve the following problems. Documentation to PuLP can be found here: https://coin-or.github.io/pulp/main/index.html\n",
    "\n",
    "A few hints\n",
    "To surpress the messages from the solver, you can use GLPK(msg = 0) (if you use GLPK) or PULP_CBC_CMD(msg=False) (if you use CBC) or a similar option for other solvers as a solver parameter of solve() method. You can use function value() to evaluate any expression involving the variables in the optimal solution. If you need many variables, it might be good to introduce them using an array of their names using dicts() method and use the returned dictionary to access them.\n",
    "\n",
    "## Part 1 (10 points)\n",
    "Solve the following program:\n",
    "$$\\min 122x + 143y \\\\\n",
    "\\text{subject to}:\\\\\n",
    "         x ≥ -10\\\\\n",
    "         y ≤  10\\\\\n",
    "  3x +  2y ≤  10\\\\\n",
    " 12x + 14y ≥ -12.5\\\\\n",
    "  2x +  3y ≥   3\\\\\n",
    "  5x -  6y ≥-100\\\\\n",
    "$$\n",
    "\n",
    "Required output example:\n",
    "\n",
    "_Optimal solution: x = 0.1 y = -2.3_\n",
    "\n",
    "_Objective value: 100.1214_\n",
    "\n",
    "_Tight constraints:_\n",
    "_1_\n",
    "_2_\n",
    "_4_\n",
    "\n",
    "So, your program should find the optimal solution, determine its objective value, and identify the tight constraints."
   ]
  },
  {
   "attachments": {},
   "cell_type": "markdown",
   "metadata": {},
   "source": [
    "## Part 2 (10 points)\n",
    "Find an optimal mixed strategy of the following game: Both players choose independently a single integer from 1 to 6. Then, the numbers are compared:\n",
    "\n",
    "- If they are equal, there is a draw\n",
    "- If they differ by 1, the player who played the smaller number gets 2EUR from the other player\n",
    "- If they differ by ≥2, the player who played the larger number gets 1EUR from the other player\n",
    "\n",
    "Note that the game is symmetric and the same strategy is optimal for both players. Required output example:\n",
    "\n",
    "_x1: 0.2 x2: 0.1 x3: 0.2 x4: 0.1 x5: 0.2 x6: 0.2_"
   ]
  },
  {
   "attachments": {},
   "cell_type": "markdown",
   "metadata": {},
   "source": [
    "## Part 3 (10 points)\n",
    "On some imaginary island, there are 69 companies and there are bilateral contracts between them. The monarch of the island would like to inspect validity of each of these contracts during a single large event. The monarch requires two representatives to represent each contract relationship (they can be both from the same party of the contract or each from a different one). This is of course satisfied by each company sending a single representative, which would require involvement of 69 representatives in total. However, the companies want to find a solution which minimizes the total number of representatives who need to attend the event.\n",
    "\n",
    "Input file hw1-03.txt contains information about the contracts. Each line corresponds to a single contract and contains identifiers (1-69) of both involved parties separated by a space.\n",
    "\n",
    "Example output:\n",
    "\n",
    "_representatives from company 1: 1.0_\n",
    "\n",
    "_representatives from company 2: 2.0_\n",
    "\n",
    "_representatives from company 3: 1.0_\n",
    "\n",
    "...\n",
    "\n",
    "_representatives from company 69: 1.0_\n",
    "\n",
    "_Total number of representatives involved: 58_\n",
    "\n",
    "Important: It is not possible to send an arbitrary fraction of a representative. However, it is enough to solve the LP relaxation since it already gives an integral solution. Reasons for this will be explained later in the class."
   ]
  }
 ],
 "metadata": {
  "kernelspec": {
   "display_name": "advanced_programming",
   "language": "python",
   "name": "python3"
  },
  "language_info": {
   "codemirror_mode": {
    "name": "ipython",
    "version": 3
   },
   "file_extension": ".py",
   "mimetype": "text/x-python",
   "name": "python",
   "nbconvert_exporter": "python",
   "pygments_lexer": "ipython3",
   "version": "3.9.13"
  },
  "orig_nbformat": 4,
  "vscode": {
   "interpreter": {
    "hash": "f7fcd6218f11cbcf4cd471ee78b8cd27e3264dc7151e8a3c900b0a337a44c246"
   }
  }
 },
 "nbformat": 4,
 "nbformat_minor": 2
}
